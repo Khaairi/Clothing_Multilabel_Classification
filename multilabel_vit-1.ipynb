{
  "cells": [
    {
      "cell_type": "markdown",
      "metadata": {},
      "source": [
        "Team Name : PeErEx\n",
        "\n",
        "Team Leader : Bayu Wicaksono\n",
        "\n",
        "Team Member : \n",
        "1. Mochamad Khaairi\n",
        "2. Muhammad Fikri Kafilli"
      ]
    },
    {
      "cell_type": "markdown",
      "metadata": {},
      "source": [
        "## **Overview**\n",
        "\n",
        "This project involves classifying images of T-shirts and hoodies from various online stores in Indonesia into categories based on type and color.\n",
        "\n",
        "## **Dataset**\n",
        "The dataset comprises 1111 images split into training and test sets:\n",
        "\n",
        "### **Training Set:**\n",
        "- **train**: Contains 777 images of T-shirts and hoodies in 5 different colors.\n",
        "- **train.csv**: CSV file containing labels for each training image.\n",
        "  - **id**: Unique ID for each training image.\n",
        "  - **jenis**: Type of clothing (0: T-shirt, 1: Hoodie).\n",
        "  - **warna**: Color of clothing (0: Red, 1: Yellow, 2: Blue, 3: Black, 4: White).\n",
        "\n",
        "### **Test Set:**\n",
        "- **test**: Contains 334 images for classification."
      ]
    },
    {
      "cell_type": "markdown",
      "metadata": {},
      "source": [
        "## Requirement\n",
        "pip3 install torch torchvision torchaudio --index-url https://download.pytorch.org/whl/cu121 pandas numpy matplotlib seaborn opencv-python Pillow transformers scikit-learn"
      ]
    },
    {
      "cell_type": "markdown",
      "metadata": {},
      "source": [
        "## Import Library"
      ]
    },
    {
      "cell_type": "code",
      "execution_count": 3,
      "metadata": {
        "id": "27xFKy8cHO4B"
      },
      "outputs": [],
      "source": [
        "import os\n",
        "import pandas as pd\n",
        "import numpy as np\n",
        "import matplotlib.pyplot as plt\n",
        "import seaborn as sns\n",
        "import cv2\n",
        "from PIL import Image\n",
        "import torch\n",
        "from torchvision import transforms\n",
        "from torch.utils.data import Dataset, DataLoader, random_split"
      ]
    },
    {
      "cell_type": "markdown",
      "metadata": {},
      "source": [
        "## EDA and Data Preprocessing"
      ]
    },
    {
      "cell_type": "markdown",
      "metadata": {},
      "source": [
        "### Load Data"
      ]
    },
    {
      "cell_type": "markdown",
      "metadata": {},
      "source": [
        "We begin by loading the training data from the specified directory and reading the accompanying CSV file containing labels. This sets up our environment for further data processing."
      ]
    },
    {
      "cell_type": "code",
      "execution_count": 4,
      "metadata": {},
      "outputs": [
        {
          "name": "stdout",
          "output_type": "stream",
          "text": [
            "<class 'pandas.core.frame.DataFrame'>\n",
            "RangeIndex: 777 entries, 0 to 776\n",
            "Data columns (total 3 columns):\n",
            " #   Column  Non-Null Count  Dtype\n",
            "---  ------  --------------  -----\n",
            " 0   id      777 non-null    int64\n",
            " 1   jenis   777 non-null    int64\n",
            " 2   warna   777 non-null    int64\n",
            "dtypes: int64(3)\n",
            "memory usage: 18.3 KB\n"
          ]
        }
      ],
      "source": [
        "# Image Directory\n",
        "data_image = 'hology/data/train/train'\n",
        "\n",
        "# Load CSV file\n",
        "data = pd.read_csv('hology/data/train.csv')\n",
        "data.info()"
      ]
    },
    {
      "cell_type": "markdown",
      "metadata": {},
      "source": [
        "### Check for Duplicate Data"
      ]
    },
    {
      "cell_type": "markdown",
      "metadata": {},
      "source": [
        "Next, we preprocess the images to check for any duplicates. We need to load every images and then save it as pixels value, so we can compare it. The process includes, each image is read using cv2 library, and then because cv2 read images in BGR (blue, green, red) colors, we need to converted to RGB, do resized, flattened into a 1D array, and save pixels value along with its id into dataframe. This transformation allows us to compare images efficiently."
      ]
    },
    {
      "cell_type": "code",
      "execution_count": 5,
      "metadata": {},
      "outputs": [
        {
          "data": {
            "text/html": [
              "<div>\n",
              "<style scoped>\n",
              "    .dataframe tbody tr th:only-of-type {\n",
              "        vertical-align: middle;\n",
              "    }\n",
              "\n",
              "    .dataframe tbody tr th {\n",
              "        vertical-align: top;\n",
              "    }\n",
              "\n",
              "    .dataframe thead th {\n",
              "        text-align: right;\n",
              "    }\n",
              "</style>\n",
              "<table border=\"1\" class=\"dataframe\">\n",
              "  <thead>\n",
              "    <tr style=\"text-align: right;\">\n",
              "      <th></th>\n",
              "      <th>id</th>\n",
              "      <th>pixels</th>\n",
              "    </tr>\n",
              "  </thead>\n",
              "  <tbody>\n",
              "    <tr>\n",
              "      <th>0</th>\n",
              "      <td>1</td>\n",
              "      <td>242 242 242 242 242 242 242 242 242 242 242 24...</td>\n",
              "    </tr>\n",
              "    <tr>\n",
              "      <th>1</th>\n",
              "      <td>10</td>\n",
              "      <td>255 255 255 255 255 255 255 255 255 255 255 25...</td>\n",
              "    </tr>\n",
              "    <tr>\n",
              "      <th>2</th>\n",
              "      <td>100</td>\n",
              "      <td>250 250 250 250 250 250 250 250 250 250 250 25...</td>\n",
              "    </tr>\n",
              "    <tr>\n",
              "      <th>3</th>\n",
              "      <td>101</td>\n",
              "      <td>255 255 255 255 255 255 255 255 255 255 255 25...</td>\n",
              "    </tr>\n",
              "    <tr>\n",
              "      <th>4</th>\n",
              "      <td>102</td>\n",
              "      <td>153 104 45 151 103 41 149 101 38 148 100 35 14...</td>\n",
              "    </tr>\n",
              "  </tbody>\n",
              "</table>\n",
              "</div>"
            ],
            "text/plain": [
              "    id                                             pixels\n",
              "0    1  242 242 242 242 242 242 242 242 242 242 242 24...\n",
              "1   10  255 255 255 255 255 255 255 255 255 255 255 25...\n",
              "2  100  250 250 250 250 250 250 250 250 250 250 250 25...\n",
              "3  101  255 255 255 255 255 255 255 255 255 255 255 25...\n",
              "4  102  153 104 45 151 103 41 149 101 38 148 100 35 14..."
            ]
          },
          "execution_count": 5,
          "metadata": {},
          "output_type": "execute_result"
        }
      ],
      "source": [
        "image_data = []\n",
        "image_ids = []\n",
        "\n",
        "# extract id and pixel from image to dataframe\n",
        "for img_file in os.listdir(data_image):\n",
        "    img_path = os.path.join(data_image, img_file)\n",
        "\n",
        "    if os.path.isfile(img_path):\n",
        "        # get image id from file name\n",
        "        img_id = np.int64(os.path.splitext(img_file)[0])\n",
        "\n",
        "        # load image with BGR color\n",
        "        image = cv2.imread(img_path, cv2.IMREAD_COLOR)\n",
        "\n",
        "        if image is not None:\n",
        "            # convert from BGR to RGB\n",
        "            image = cv2.cvtColor(image, cv2.COLOR_BGR2RGB)\n",
        "\n",
        "            # resize image\n",
        "            image = cv2.resize(image, (244, 244))\n",
        "\n",
        "            # flatten image to 1D array and convert to string\n",
        "            image_flat = ' '.join(map(str, image.flatten()))\n",
        "\n",
        "            # save pixel and image id\n",
        "            image_data.append(image_flat)\n",
        "            image_ids.append(img_id)\n",
        "\n",
        "df = pd.DataFrame({\n",
        "    'id': image_ids,\n",
        "    'pixels': image_data\n",
        "})\n",
        "\n",
        "df.head()"
      ]
    },
    {
      "cell_type": "markdown",
      "metadata": {},
      "source": [
        "We then check for any duplicate images based on their pixel values. This ensures the uniqueness of the images used in our training and evaluation processes. Subset is used to ensure that duplicate checking is only performed for pixel values"
      ]
    },
    {
      "cell_type": "code",
      "execution_count": 6,
      "metadata": {},
      "outputs": [
        {
          "name": "stdout",
          "output_type": "stream",
          "text": [
            "Number of duplicate rows': 5\n"
          ]
        }
      ],
      "source": [
        "duplicate_count = df.duplicated(subset='pixels').sum()\n",
        "\n",
        "print(f\"Number of duplicate rows': {duplicate_count}\")"
      ]
    },
    {
      "cell_type": "code",
      "execution_count": 7,
      "metadata": {},
      "outputs": [
        {
          "data": {
            "text/html": [
              "<div>\n",
              "<style scoped>\n",
              "    .dataframe tbody tr th:only-of-type {\n",
              "        vertical-align: middle;\n",
              "    }\n",
              "\n",
              "    .dataframe tbody tr th {\n",
              "        vertical-align: top;\n",
              "    }\n",
              "\n",
              "    .dataframe thead th {\n",
              "        text-align: right;\n",
              "    }\n",
              "</style>\n",
              "<table border=\"1\" class=\"dataframe\">\n",
              "  <thead>\n",
              "    <tr style=\"text-align: right;\">\n",
              "      <th></th>\n",
              "      <th>id</th>\n",
              "      <th>pixels</th>\n",
              "    </tr>\n",
              "  </thead>\n",
              "  <tbody>\n",
              "    <tr>\n",
              "      <th>412</th>\n",
              "      <td>470</td>\n",
              "      <td>255 255 255 255 255 255 255 255 255 255 255 25...</td>\n",
              "    </tr>\n",
              "    <tr>\n",
              "      <th>570</th>\n",
              "      <td>612</td>\n",
              "      <td>220 218 219 220 218 219 220 218 219 220 218 21...</td>\n",
              "    </tr>\n",
              "    <tr>\n",
              "      <th>674</th>\n",
              "      <td>706</td>\n",
              "      <td>255 255 255 255 255 255 255 255 255 255 255 25...</td>\n",
              "    </tr>\n",
              "    <tr>\n",
              "      <th>725</th>\n",
              "      <td>752</td>\n",
              "      <td>255 255 255 255 255 255 255 255 255 255 255 25...</td>\n",
              "    </tr>\n",
              "    <tr>\n",
              "      <th>738</th>\n",
              "      <td>764</td>\n",
              "      <td>255 255 255 255 255 255 255 255 255 255 255 25...</td>\n",
              "    </tr>\n",
              "  </tbody>\n",
              "</table>\n",
              "</div>"
            ],
            "text/plain": [
              "      id                                             pixels\n",
              "412  470  255 255 255 255 255 255 255 255 255 255 255 25...\n",
              "570  612  220 218 219 220 218 219 220 218 219 220 218 21...\n",
              "674  706  255 255 255 255 255 255 255 255 255 255 255 25...\n",
              "725  752  255 255 255 255 255 255 255 255 255 255 255 25...\n",
              "738  764  255 255 255 255 255 255 255 255 255 255 255 25..."
            ]
          },
          "execution_count": 7,
          "metadata": {},
          "output_type": "execute_result"
        }
      ],
      "source": [
        "df[df.duplicated(subset='pixels')]"
      ]
    },
    {
      "cell_type": "markdown",
      "metadata": {},
      "source": [
        "We store duplicate IDs in a list. This list will later be used to filter out and delete duplicate rows from the dataframe, ensuring the dataset contains only unique images."
      ]
    },
    {
      "cell_type": "code",
      "execution_count": 8,
      "metadata": {},
      "outputs": [],
      "source": [
        "id_duplicate = df[df.duplicated(subset='pixels')]['id'].tolist()"
      ]
    },
    {
      "cell_type": "markdown",
      "metadata": {},
      "source": [
        "### Clothing Type Data Distribution"
      ]
    },
    {
      "cell_type": "markdown",
      "metadata": {},
      "source": [
        "We map the numerical labels for clothing types to their corresponding string labels (0: Kaos, 1: Hoodie). We then calculate the count of each type and create a dataframe to store these counts."
      ]
    },
    {
      "cell_type": "code",
      "execution_count": 9,
      "metadata": {},
      "outputs": [
        {
          "data": {
            "text/html": [
              "<div>\n",
              "<style scoped>\n",
              "    .dataframe tbody tr th:only-of-type {\n",
              "        vertical-align: middle;\n",
              "    }\n",
              "\n",
              "    .dataframe tbody tr th {\n",
              "        vertical-align: top;\n",
              "    }\n",
              "\n",
              "    .dataframe thead th {\n",
              "        text-align: right;\n",
              "    }\n",
              "</style>\n",
              "<table border=\"1\" class=\"dataframe\">\n",
              "  <thead>\n",
              "    <tr style=\"text-align: right;\">\n",
              "      <th></th>\n",
              "      <th>jenis</th>\n",
              "      <th>number</th>\n",
              "    </tr>\n",
              "  </thead>\n",
              "  <tbody>\n",
              "    <tr>\n",
              "      <th>0</th>\n",
              "      <td>Kaos</td>\n",
              "      <td>476</td>\n",
              "    </tr>\n",
              "    <tr>\n",
              "      <th>1</th>\n",
              "      <td>Hoodie</td>\n",
              "      <td>301</td>\n",
              "    </tr>\n",
              "  </tbody>\n",
              "</table>\n",
              "</div>"
            ],
            "text/plain": [
              "    jenis  number\n",
              "0    Kaos     476\n",
              "1  Hoodie     301"
            ]
          },
          "execution_count": 9,
          "metadata": {},
          "output_type": "execute_result"
        }
      ],
      "source": [
        "labels = {0:'Kaos', 1:'Hoodie'}\n",
        "counts = data['jenis'].value_counts(sort=True).reset_index()\n",
        "counts.columns = ['jenis', 'number']\n",
        "counts['jenis'] = counts['jenis'].map(labels)\n",
        "counts"
      ]
    },
    {
      "cell_type": "markdown",
      "metadata": {},
      "source": [
        "To understand the distribution of different categories in our dataset, we create a bar plot. The plot displays the count of each category (T-shirt and Hoodie), which helps in visualizing how balanced the dataset is."
      ]
    },
    {
      "cell_type": "code",
      "execution_count": 10,
      "metadata": {},
      "outputs": [
        {
          "data": {
            "image/png": "[encoded data removed]",
            "text/plain": [
              "<Figure size 600x400 with 1 Axes>"
            ]
          },
          "metadata": {},
          "output_type": "display_data"
        }
      ],
      "source": [
        "counts_sorted = counts.sort_values(by='number', ascending=True)\n",
        "colors = sns.color_palette(\"Blues\", len(counts_sorted))\n",
        "\n",
        "plt.figure(figsize=(6, 4))\n",
        "sns.barplot(x=counts_sorted.jenis, y=counts_sorted.number, palette=colors, hue=counts_sorted.jenis)\n",
        "plt.title('Category Distribution')\n",
        "plt.ylabel('Count', fontsize=12)\n",
        "plt.xlabel('Categories', fontsize=12)\n",
        "plt.show()"
      ]
    },
    {
      "cell_type": "markdown",
      "metadata": {},
      "source": [
        "### Clothing Color Data Distribution"
      ]
    },
    {
      "cell_type": "markdown",
      "metadata": {},
      "source": [
        "For color labels, we do the same thing as we did for clothing type"
      ]
    },
    {
      "cell_type": "code",
      "execution_count": 11,
      "metadata": {},
      "outputs": [
        {
          "data": {
            "text/html": [
              "<div>\n",
              "<style scoped>\n",
              "    .dataframe tbody tr th:only-of-type {\n",
              "        vertical-align: middle;\n",
              "    }\n",
              "\n",
              "    .dataframe tbody tr th {\n",
              "        vertical-align: top;\n",
              "    }\n",
              "\n",
              "    .dataframe thead th {\n",
              "        text-align: right;\n",
              "    }\n",
              "</style>\n",
              "<table border=\"1\" class=\"dataframe\">\n",
              "  <thead>\n",
              "    <tr style=\"text-align: right;\">\n",
              "      <th></th>\n",
              "      <th>warna</th>\n",
              "      <th>number</th>\n",
              "    </tr>\n",
              "  </thead>\n",
              "  <tbody>\n",
              "    <tr>\n",
              "      <th>0</th>\n",
              "      <td>hitam</td>\n",
              "      <td>234</td>\n",
              "    </tr>\n",
              "    <tr>\n",
              "      <th>1</th>\n",
              "      <td>biru</td>\n",
              "      <td>162</td>\n",
              "    </tr>\n",
              "    <tr>\n",
              "      <th>2</th>\n",
              "      <td>putih</td>\n",
              "      <td>140</td>\n",
              "    </tr>\n",
              "    <tr>\n",
              "      <th>3</th>\n",
              "      <td>kuning</td>\n",
              "      <td>125</td>\n",
              "    </tr>\n",
              "    <tr>\n",
              "      <th>4</th>\n",
              "      <td>merah</td>\n",
              "      <td>116</td>\n",
              "    </tr>\n",
              "  </tbody>\n",
              "</table>\n",
              "</div>"
            ],
            "text/plain": [
              "    warna  number\n",
              "0   hitam     234\n",
              "1    biru     162\n",
              "2   putih     140\n",
              "3  kuning     125\n",
              "4   merah     116"
            ]
          },
          "execution_count": 11,
          "metadata": {},
          "output_type": "execute_result"
        }
      ],
      "source": [
        "labels = {0:'merah', 1:'kuning', 2:'biru', 3:'hitam', 4:'putih'}\n",
        "counts = data['warna'].value_counts(sort=True).reset_index()\n",
        "counts.columns = ['warna', 'number']\n",
        "counts['warna'] = counts['warna'].map(labels)\n",
        "counts"
      ]
    },
    {
      "cell_type": "code",
      "execution_count": 12,
      "metadata": {},
      "outputs": [
        {
          "data": {
            "image/png": "[encoded data removed]",
            "text/plain": [
              "<Figure size 800x400 with 1 Axes>"
            ]
          },
          "metadata": {},
          "output_type": "display_data"
        }
      ],
      "source": [
        "counts_sorted = counts.sort_values(by='number', ascending=True)\n",
        "\n",
        "colors = sns.color_palette(\"Blues\", len(counts_sorted))\n",
        "\n",
        "plt.figure(figsize=(8, 4))\n",
        "sns.barplot(x=counts_sorted.warna, y=counts_sorted.number, palette=colors, hue=counts_sorted.warna)\n",
        "plt.title('Color Distribution')\n",
        "plt.ylabel('Count', fontsize=12)\n",
        "plt.xlabel('Colors', fontsize=12)\n",
        "plt.show()"
      ]
    },
    {
      "cell_type": "markdown",
      "metadata": {},
      "source": [
        "### Data Training Preparation"
      ]
    },
    {
      "cell_type": "markdown",
      "metadata": {},
      "source": [
        "We define a function to locate the image file based on its ID. This helps in dynamically finding the correct image file in the specified directory."
      ]
    },
    {
      "cell_type": "code",
      "execution_count": 13,
      "metadata": {},
      "outputs": [],
      "source": [
        "# find image path based image id\n",
        "def find_file_path(img_dir, img_id):\n",
        "    for ext in ['jpg', 'png', 'jpeg']:\n",
        "        file_path = os.path.join(img_dir, f'{img_id}.{ext}')\n",
        "        if os.path.exists(file_path):\n",
        "            return file_path.replace('\\\\', '/')\n",
        "    return None"
      ]
    },
    {
      "cell_type": "markdown",
      "metadata": {},
      "source": [
        "We create a custom dataset class using PyTorch. This class handles the loading of image data and corresponding labels, as well as applying any required transformations to the images."
      ]
    },
    {
      "cell_type": "code",
      "execution_count": 14,
      "metadata": {
        "id": "M8OZdzrazGTE"
      },
      "outputs": [],
      "source": [
        "class ClothingDataset(Dataset):\n",
        "    def __init__(self, csv_file, img_dir, transform=None):\n",
        "        self.data = pd.read_csv(csv_file)\n",
        "        self.img_dir = img_dir\n",
        "        self.transform = transform\n",
        "        # delete duplicate data\n",
        "        # self.data = self.data[~self.data['id'].isin(id_duplicate)].reset_index(drop=True)\n",
        "\n",
        "    def __len__(self):\n",
        "        return len(self.data)\n",
        "\n",
        "    def __getitem__(self, idx):\n",
        "        # get id from csv file\n",
        "        img_id = str(self.data.iloc[idx, 0])\n",
        "        # get image path\n",
        "        img_path = find_file_path(self.img_dir, img_id)\n",
        "\n",
        "        # Periksa apakah file ada\n",
        "        if not os.path.exists(img_path):\n",
        "            raise FileNotFoundError(f\"Gambar {img_path} tidak ditemukan.\")\n",
        "\n",
        "        # convert image to RGB\n",
        "        image = Image.open(img_path).convert(\"RGB\")\n",
        "\n",
        "        # get label data from csv file\n",
        "        jenis = torch.tensor(self.data.iloc[idx, 1], dtype=torch.long)\n",
        "        warna = torch.tensor(self.data.iloc[idx, 2], dtype=torch.long)\n",
        "\n",
        "        # apply transformation to image\n",
        "        if self.transform:\n",
        "            image = self.transform(image)\n",
        "\n",
        "        return image, jenis, warna"
      ]
    },
    {
      "cell_type": "markdown",
      "metadata": {},
      "source": [
        "We defines a transformation pipeline for image processing using PyTorch's transforms module, including resized images into 224x224 pixels to macth with input size of model. Then we load the training data, and split it into training and validation sets. We use data loaders to facilitate efficient batching and shuffling during training."
      ]
    },
    {
      "cell_type": "code",
      "execution_count": 15,
      "metadata": {
        "id": "fC3y5kwBzMWK"
      },
      "outputs": [],
      "source": [
        "# define transformation for image\n",
        "transform = transforms.Compose([\n",
        "    transforms.Resize((224, 224)),\n",
        "    transforms.ToTensor(),\n",
        "    transforms.Normalize([0.5, 0.5, 0.5], [0.5, 0.5, 0.5])\n",
        "])\n",
        "\n",
        "# load data training\n",
        "full_train_dataset = ClothingDataset(csv_file=\"hology/data/train.csv\", img_dir=\"hology/data/train/train\", transform=transform)\n",
        "\n",
        "# set seed\n",
        "torch.manual_seed(42)\n",
        "\n",
        "# determine data training and validation sizes (80% and 20%)\n",
        "train_size = int(0.8 * len(full_train_dataset))\n",
        "val_size = len(full_train_dataset) - train_size\n",
        "\n",
        "# set seed\n",
        "generator = torch.Generator().manual_seed(42)\n",
        "\n",
        "# split dataset\n",
        "train_dataset, val_dataset = random_split(full_train_dataset, [train_size, val_size], generator=generator)\n",
        "\n",
        "# create DataLoader for data training and validation\n",
        "train_loader = DataLoader(train_dataset, batch_size=16, shuffle=True)\n",
        "val_loader = DataLoader(val_dataset, batch_size=16, shuffle=False)"
      ]
    },
    {
      "cell_type": "markdown",
      "metadata": {},
      "source": [
        "## Model Development"
      ]
    },
    {
      "cell_type": "markdown",
      "metadata": {},
      "source": [
        "We define a custom neural network using the Vision Transformer (ViT) model from the Transformers library by Hugging Face. The model is fine-tuned for multi-label classification to predict both the type of clothing and its color.\n",
        "\n",
        "- We load a pre-trained ViT model (`vit-base-patch16-224`) and create two custom classification heads.\n",
        "- `vit-base-patch16-224` is specific ViT model with the input image is divided into patches of 16x16 pixels and resolution of the input image, specifically 224x224 pixels.\n",
        "- The `classifier_jenis` head is for binary classification of clothing type (T-shirt or Hoodie).\n",
        "- The `classifier_warna` head is for multi-class classification of clothing color (5 colors)."
      ]
    },
    {
      "cell_type": "code",
      "execution_count": 16,
      "metadata": {
        "colab": {
          "base_uri": "https://localhost:8080/",
          "height": 1000,
          "referenced_widgets": [
            "611fd30bf3d94d818489b6e7f7bd12c9",
            "fe767983311349a99a065cb860e875d6",
            "35d8f35e76c040468b45fee1592fd28f",
            "db3464bc619d4975a614bacb4c65881d",
            "598893d59bc344aaabfbf64cdbac3f87",
            "fc370bbbfa224832b4aca4b42e56949b",
            "61adb54bd5d04d34b013a7c36db323e9",
            "28a9df83393a4c3c81093b18ca128579",
            "812f724a457d420b9802226582f73d49",
            "d6953d5c047343bb979fdeb19462ce50",
            "6485153a12144beb91352ca0bcad2e5b",
            "4b90936a3a2546acae25afc2b228e7e0",
            "f0dc778235fe43d0a1391fb1206690ea",
            "698887ae0f3540cfaacc69819144c967",
            "f394db09e39043209b39590f9be4d55f",
            "aaa8914978f945c9bdadb0da711609a0",
            "e7ef50bdfd0740078530eaaabe6bdd9a",
            "e1367c7b28ab4801ac331065aff0436e",
            "3b59d7c40db14f7cac416f4e4ca78ad7",
            "b805c212b79247aebd62e594bb4ba4b1",
            "779c90e6f0f2410d9af4b35eaee93a57",
            "18db0e22f4294266971c579cbe2e023f"
          ]
        },
        "id": "5fo7dd9ZzW4-",
        "outputId": "6f086aab-11ed-47fa-b665-1349426aa502"
      },
      "outputs": [
        {
          "name": "stderr",
          "output_type": "stream",
          "text": [
            "c:\\Users\\User\\Documents\\Code\\env\\lib\\site-packages\\tqdm\\auto.py:21: TqdmWarning: IProgress not found. Please update jupyter and ipywidgets. See https://ipywidgets.readthedocs.io/en/stable/user_install.html\n",
            "  from .autonotebook import tqdm as notebook_tqdm\n",
            "Some weights of ViTModel were not initialized from the model checkpoint at google/vit-base-patch16-224 and are newly initialized: ['vit.pooler.dense.bias', 'vit.pooler.dense.weight']\n",
            "You should probably TRAIN this model on a down-stream task to be able to use it for predictions and inference.\n"
          ]
        },
        {
          "data": {
            "text/plain": [
              "MultiLabelViT(\n",
              "  (vit): ViTModel(\n",
              "    (embeddings): ViTEmbeddings(\n",
              "      (patch_embeddings): ViTPatchEmbeddings(\n",
              "        (projection): Conv2d(3, 768, kernel_size=(16, 16), stride=(16, 16))\n",
              "      )\n",
              "      (dropout): Dropout(p=0.0, inplace=False)\n",
              "    )\n",
              "    (encoder): ViTEncoder(\n",
              "      (layer): ModuleList(\n",
              "        (0-11): 12 x ViTLayer(\n",
              "          (attention): ViTSdpaAttention(\n",
              "            (attention): ViTSdpaSelfAttention(\n",
              "              (query): Linear(in_features=768, out_features=768, bias=True)\n",
              "              (key): Linear(in_features=768, out_features=768, bias=True)\n",
              "              (value): Linear(in_features=768, out_features=768, bias=True)\n",
              "              (dropout): Dropout(p=0.0, inplace=False)\n",
              "            )\n",
              "            (output): ViTSelfOutput(\n",
              "              (dense): Linear(in_features=768, out_features=768, bias=True)\n",
              "              (dropout): Dropout(p=0.0, inplace=False)\n",
              "            )\n",
              "          )\n",
              "          (intermediate): ViTIntermediate(\n",
              "            (dense): Linear(in_features=768, out_features=3072, bias=True)\n",
              "            (intermediate_act_fn): GELUActivation()\n",
              "          )\n",
              "          (output): ViTOutput(\n",
              "            (dense): Linear(in_features=3072, out_features=768, bias=True)\n",
              "            (dropout): Dropout(p=0.0, inplace=False)\n",
              "          )\n",
              "          (layernorm_before): LayerNorm((768,), eps=1e-12, elementwise_affine=True)\n",
              "          (layernorm_after): LayerNorm((768,), eps=1e-12, elementwise_affine=True)\n",
              "        )\n",
              "      )\n",
              "    )\n",
              "    (layernorm): LayerNorm((768,), eps=1e-12, elementwise_affine=True)\n",
              "    (pooler): ViTPooler(\n",
              "      (dense): Linear(in_features=768, out_features=768, bias=True)\n",
              "      (activation): Tanh()\n",
              "    )\n",
              "  )\n",
              "  (classifier_jenis): Linear(in_features=768, out_features=1, bias=True)\n",
              "  (classifier_warna): Linear(in_features=768, out_features=5, bias=True)\n",
              ")"
            ]
          },
          "execution_count": 16,
          "metadata": {},
          "output_type": "execute_result"
        }
      ],
      "source": [
        "from transformers import ViTModel\n",
        "import torch.nn as nn\n",
        "\n",
        "class MultiLabelViT(nn.Module):\n",
        "    def __init__(self, pretrained_model_name='google/vit-base-patch16-224'):\n",
        "        super(MultiLabelViT, self).__init__()\n",
        "        # load pre-trained model\n",
        "        self.vit = ViTModel.from_pretrained(pretrained_model_name)\n",
        "\n",
        "        # get the size (dimension) of the hidden layer representation\n",
        "        hidden_size = self.vit.config.hidden_size\n",
        "\n",
        "        # define custom classification heads\n",
        "        self.classifier_jenis = nn.Linear(hidden_size, 1) # for clothing type, binary classification\n",
        "        self.classifier_warna = nn.Linear(hidden_size, 5) # for clothing color, multi-class classification\n",
        "\n",
        "    def forward(self, pixel_values):\n",
        "        # process the input image through the ViT model and get the output\n",
        "        outputs = self.vit(pixel_values=pixel_values)\n",
        "\n",
        "        # taking the output from the last hidden layer\n",
        "        last_hidden_state = outputs.last_hidden_state\n",
        "\n",
        "        # get representation of classification token ([CLS])\n",
        "        cls_token = last_hidden_state[:, 0, :]\n",
        "\n",
        "        # generate logits for each label\n",
        "        jenis_logits = self.classifier_jenis(cls_token)\n",
        "        warna_logits = self.classifier_warna(cls_token)\n",
        "\n",
        "        return jenis_logits, warna_logits\n",
        "\n",
        "\n",
        "# init model\n",
        "model = MultiLabelViT()\n",
        "device = torch.device(\"cuda\" if torch.cuda.is_available() else \"cpu\")\n",
        "model.to(device)"
      ]
    },
    {
      "cell_type": "markdown",
      "metadata": {},
      "source": [
        "We calculate the total number of parameters and the number of trainable parameters in the model. This provides insights into the complexity of the model and the training process."
      ]
    },
    {
      "cell_type": "code",
      "execution_count": 17,
      "metadata": {
        "colab": {
          "base_uri": "https://localhost:8080/"
        },
        "id": "SkhNwlPj8j-U",
        "outputId": "2f571367-8e5f-4a8f-9af8-f65adea5990d"
      },
      "outputs": [
        {
          "name": "stdout",
          "output_type": "stream",
          "text": [
            "num_params = 86,393,862 | trainable_params = 86,393,862\n"
          ]
        }
      ],
      "source": [
        "# see the number of parameters to be updated\n",
        "num_params = sum([p.numel() for p in model.parameters()])\n",
        "trainable_params = sum([p.numel() for p in model.parameters() if p.requires_grad])\n",
        "\n",
        "print(f\"{num_params = :,} | {trainable_params = :,}\")"
      ]
    },
    {
      "cell_type": "markdown",
      "metadata": {},
      "source": [
        "### Evaluation Model Process"
      ]
    },
    {
      "cell_type": "markdown",
      "metadata": {},
      "source": [
        "We define a function to evaluate the performance of our model. The function calculates several metrics including accuracy and exact match ratio, and uses the precision-recall curve to determine the optimal threshold for binary classification.\n",
        "\n",
        "- **Accuracy**: Measures how often the model correctly predicts the clothing type and color.\n",
        "- **Exact Match Ratio**: The percentage of samples where both clothing type and color are predicted correctly.\n",
        "- **Precision-Recall Curve**: Helps determine the optimal threshold for binary classification of clothing"
      ]
    },
    {
      "cell_type": "code",
      "execution_count": 18,
      "metadata": {
        "id": "SU-atsa6zX81"
      },
      "outputs": [],
      "source": [
        "from sklearn.metrics import precision_recall_curve\n",
        "import numpy as np\n",
        "\n",
        "# evaluation model using accuracy and exact match ratio\n",
        "def evaluate_model(model, dataloader):\n",
        "    model.eval()\n",
        "    total_samples = 0\n",
        "    exact_match_count = 0\n",
        "    correct_jenis = 0\n",
        "    correct_warna = 0\n",
        "    all_true_labels = []\n",
        "    all_predicted_probs = []\n",
        "\n",
        "    with torch.no_grad():\n",
        "        for images, jenis, warna in dataloader:\n",
        "            images = images.to(device)\n",
        "            jenis = jenis.to(device).float().view(-1)\n",
        "            warna = warna.to(device)\n",
        "\n",
        "            # forward pass\n",
        "            jenis_logits, warna_logits = model(images)\n",
        "\n",
        "            # apply sigmoid to convert logits to probabilities for binary classification\n",
        "            predicted_jenis = torch.sigmoid(jenis_logits)\n",
        "\n",
        "            # store predicted probabilities and true labels for ROC-AUC calculation\n",
        "            all_predicted_probs.extend(predicted_jenis.cpu().numpy())\n",
        "            all_true_labels.extend(jenis.cpu().numpy())\n",
        "\n",
        "            # apply threshold of 0.5\n",
        "            predicted_jenis = (predicted_jenis > 0.5).long().view(-1)\n",
        "\n",
        "\n",
        "            # prediction for multi-class classification\n",
        "            _, predicted_warna = torch.max(warna_logits, 1)\n",
        "\n",
        "            # calculate accuracy for each label\n",
        "            correct_jenis += (predicted_jenis == jenis.long()).sum().item()\n",
        "            correct_warna += (predicted_warna == warna).sum().item()\n",
        "\n",
        "            # calculate exact match ratio\n",
        "            exact_match_count += ((predicted_jenis == jenis.long()) & (predicted_warna == warna)).sum().item()\n",
        "            total_samples += jenis.size(0)\n",
        "\n",
        "    # calculate all evaluation matrix\n",
        "    jenis_accuracy = correct_jenis / total_samples * 100\n",
        "    warna_accuracy = correct_warna / total_samples * 100\n",
        "    exact_match_ratio = exact_match_count / total_samples * 100\n",
        "\n",
        "    # calculate precision-Recall curve\n",
        "    precision, recall, thresholds = precision_recall_curve(all_true_labels, all_predicted_probs)\n",
        "\n",
        "    # calculate optimal threshold\n",
        "    f1_scores = 2 * (precision * recall) / (precision + recall + 1e-7)\n",
        "    optimal_idx = np.argmax(f1_scores)\n",
        "    optimal_threshold = thresholds[optimal_idx]\n",
        "\n",
        "    print(f'Optimal Threshold: {optimal_threshold:.4f}')\n",
        "    print(f'Akurasi Jenis: {jenis_accuracy:.2f}%, Akurasi Warna: {warna_accuracy:.2f}%, Exact Match Ratio (EMR): {exact_match_ratio:.2f}%')\n"
      ]
    },
    {
      "cell_type": "markdown",
      "metadata": {},
      "source": [
        "### Training Model Process"
      ]
    },
    {
      "cell_type": "markdown",
      "metadata": {},
      "source": [
        "We define the loss functions and optimizer for our multi-label classification model. The training loop iterates through the dataset, computes losses for both labels, and updates the model parameters to minimize the combined loss. An additional penalty for the exact match ratio (EMR) ensures the model is penalized for incorrect predictions.\n",
        "\n",
        "- **Loss Functions**:\n",
        "  - `lossFunc_jenis`: Binary Cross-Entropy Loss for clothing type.\n",
        "  - `lossFunc_warna`: Cross-Entropy Loss for clothing color.\n",
        "- **Optimizer**: Adam optimizer with a learning rate of 1e-4.\n",
        "- **Alpha**: Penalty weight for EMR to ensure correct multi-label predictions."
      ]
    },
    {
      "cell_type": "code",
      "execution_count": 19,
      "metadata": {},
      "outputs": [
        {
          "name": "stderr",
          "output_type": "stream",
          "text": [
            "c:\\Users\\User\\Documents\\Code\\env\\lib\\site-packages\\transformers\\models\\vit\\modeling_vit.py:261: UserWarning: 1Torch was not compiled with flash attention. (Triggered internally at C:\\actions-runner\\_work\\pytorch\\pytorch\\builder\\windows\\pytorch\\aten\\src\\ATen\\native\\transformers\\cuda\\sdp_utils.cpp:555.)\n",
            "  context_layer = torch.nn.functional.scaled_dot_product_attention(\n"
          ]
        },
        {
          "name": "stdout",
          "output_type": "stream",
          "text": [
            "Epoch [1/10], Loss: 0.733513\n",
            "Optimal Threshold: 0.6390\n",
            "Akurasi Jenis: 98.72%, Akurasi Warna: 97.44%, Exact Match Ratio (EMR): 96.15%\n",
            "Epoch [2/10], Loss: 0.104613\n",
            "Optimal Threshold: 0.5454\n",
            "Akurasi Jenis: 100.00%, Akurasi Warna: 98.72%, Exact Match Ratio (EMR): 98.72%\n",
            "Epoch [3/10], Loss: 0.061821\n",
            "Optimal Threshold: 0.6511\n",
            "Akurasi Jenis: 100.00%, Akurasi Warna: 98.08%, Exact Match Ratio (EMR): 98.08%\n",
            "Epoch [4/10], Loss: 0.048526\n",
            "Optimal Threshold: 0.2465\n",
            "Akurasi Jenis: 99.36%, Akurasi Warna: 100.00%, Exact Match Ratio (EMR): 99.36%\n",
            "Epoch [5/10], Loss: 0.044127\n",
            "Optimal Threshold: 0.3535\n",
            "Akurasi Jenis: 99.36%, Akurasi Warna: 100.00%, Exact Match Ratio (EMR): 99.36%\n",
            "Epoch [6/10], Loss: 0.042815\n",
            "Optimal Threshold: 0.3327\n",
            "Akurasi Jenis: 99.36%, Akurasi Warna: 100.00%, Exact Match Ratio (EMR): 99.36%\n",
            "Epoch [7/10], Loss: 0.042093\n",
            "Optimal Threshold: 0.3221\n",
            "Akurasi Jenis: 99.36%, Akurasi Warna: 100.00%, Exact Match Ratio (EMR): 99.36%\n",
            "Epoch [8/10], Loss: 0.041657\n",
            "Optimal Threshold: 0.3037\n",
            "Akurasi Jenis: 99.36%, Akurasi Warna: 100.00%, Exact Match Ratio (EMR): 99.36%\n",
            "Epoch [9/10], Loss: 0.041303\n",
            "Optimal Threshold: 0.3034\n",
            "Akurasi Jenis: 99.36%, Akurasi Warna: 100.00%, Exact Match Ratio (EMR): 99.36%\n",
            "Epoch [10/10], Loss: 0.041129\n",
            "Optimal Threshold: 0.2829\n",
            "Akurasi Jenis: 99.36%, Akurasi Warna: 100.00%, Exact Match Ratio (EMR): 99.36%\n"
          ]
        }
      ],
      "source": [
        "import torch.nn.functional as F\n",
        "import torch.optim as optim\n",
        "\n",
        "# define training arguments\n",
        "lossFunc_jenis = nn.BCEWithLogitsLoss()  # binary loss for 'jenis'\n",
        "lossFunc_warna = nn.CrossEntropyLoss()  # multi-class loss for 'warna'\n",
        "alpha = 0.1  # penalty weight for EMR\n",
        "optimizer = optim.Adam(model.parameters(), lr=1e-4)\n",
        "\n",
        "# training loop\n",
        "num_epochs = 10\n",
        "for epoch in range(num_epochs):\n",
        "    model.train()\n",
        "    total_loss_epoch = 0\n",
        "\n",
        "    for images, jenis, warna in train_loader:\n",
        "        images, jenis, warna = images.to(device), jenis.to(device).float(), warna.to(device).float()\n",
        "\n",
        "        optimizer.zero_grad()\n",
        "\n",
        "        # forward pass\n",
        "        jenis_logits, warna_logits = model(images)\n",
        "\n",
        "        # compute the losses for each label\n",
        "        loss_jenis = lossFunc_jenis(jenis_logits, jenis.unsqueeze(1))\n",
        "        loss_warna = lossFunc_warna(warna_logits, warna.long())\n",
        "\n",
        "        # custom loss for exact match\n",
        "        _, predicted_jenis = torch.max(jenis_logits, dim=1)\n",
        "        _, predicted_warna = torch.max(warna_logits, dim=1)\n",
        "        correct_predictions = (predicted_jenis == jenis) & (predicted_warna == warna)\n",
        "        penalti_EMR = (1 - correct_predictions.float()).mean()\n",
        "\n",
        "        # combine losses\n",
        "        total_loss = loss_jenis + loss_warna + alpha * penalti_EMR\n",
        "        \n",
        "        # backward pass\n",
        "        total_loss.backward()\n",
        "        optimizer.step()\n",
        "\n",
        "        total_loss_epoch += total_loss.item()\n",
        "\n",
        "    avg_loss = total_loss_epoch / len(train_loader)\n",
        "    print(f\"Epoch [{epoch+1}/{num_epochs}], Loss: {avg_loss:.6f}\")\n",
        "\n",
        "    # evaluate model\n",
        "    evaluate_model(model, val_loader)\n"
      ]
    },
    {
      "cell_type": "markdown",
      "metadata": {},
      "source": [
        "### Save Model"
      ]
    },
    {
      "cell_type": "code",
      "execution_count": 24,
      "metadata": {
        "id": "cw40_StgzwhX"
      },
      "outputs": [],
      "source": [
        "# torch.save(model.state_dict(), \"hology/model/multilabel_vit-1.pth\")"
      ]
    },
    {
      "cell_type": "markdown",
      "metadata": {},
      "source": [
        "## Inference Process"
      ]
    },
    {
      "cell_type": "code",
      "execution_count": 25,
      "metadata": {},
      "outputs": [
        {
          "name": "stderr",
          "output_type": "stream",
          "text": [
            "Some weights of ViTModel were not initialized from the model checkpoint at google/vit-base-patch16-224 and are newly initialized: ['vit.pooler.dense.bias', 'vit.pooler.dense.weight']\n",
            "You should probably TRAIN this model on a down-stream task to be able to use it for predictions and inference.\n",
            "C:\\Users\\User\\AppData\\Local\\Temp\\ipykernel_11040\\84290560.py:3: FutureWarning: You are using `torch.load` with `weights_only=False` (the current default value), which uses the default pickle module implicitly. It is possible to construct malicious pickle data which will execute arbitrary code during unpickling (See https://github.com/pytorch/pytorch/blob/main/SECURITY.md#untrusted-models for more details). In a future release, the default value for `weights_only` will be flipped to `True`. This limits the functions that could be executed during unpickling. Arbitrary objects will no longer be allowed to be loaded via this mode unless they are explicitly allowlisted by the user via `torch.serialization.add_safe_globals`. We recommend you start setting `weights_only=True` for any use case where you don't have full control of the loaded file. Please open an issue on GitHub for any issues related to this experimental feature.\n",
            "  model.load_state_dict(torch.load(\"multilabel_vit-1.pth\", map_location=device))\n"
          ]
        },
        {
          "data": {
            "text/plain": [
              "MultiLabelViT(\n",
              "  (vit): ViTModel(\n",
              "    (embeddings): ViTEmbeddings(\n",
              "      (patch_embeddings): ViTPatchEmbeddings(\n",
              "        (projection): Conv2d(3, 768, kernel_size=(16, 16), stride=(16, 16))\n",
              "      )\n",
              "      (dropout): Dropout(p=0.0, inplace=False)\n",
              "    )\n",
              "    (encoder): ViTEncoder(\n",
              "      (layer): ModuleList(\n",
              "        (0-11): 12 x ViTLayer(\n",
              "          (attention): ViTSdpaAttention(\n",
              "            (attention): ViTSdpaSelfAttention(\n",
              "              (query): Linear(in_features=768, out_features=768, bias=True)\n",
              "              (key): Linear(in_features=768, out_features=768, bias=True)\n",
              "              (value): Linear(in_features=768, out_features=768, bias=True)\n",
              "              (dropout): Dropout(p=0.0, inplace=False)\n",
              "            )\n",
              "            (output): ViTSelfOutput(\n",
              "              (dense): Linear(in_features=768, out_features=768, bias=True)\n",
              "              (dropout): Dropout(p=0.0, inplace=False)\n",
              "            )\n",
              "          )\n",
              "          (intermediate): ViTIntermediate(\n",
              "            (dense): Linear(in_features=768, out_features=3072, bias=True)\n",
              "            (intermediate_act_fn): GELUActivation()\n",
              "          )\n",
              "          (output): ViTOutput(\n",
              "            (dense): Linear(in_features=3072, out_features=768, bias=True)\n",
              "            (dropout): Dropout(p=0.0, inplace=False)\n",
              "          )\n",
              "          (layernorm_before): LayerNorm((768,), eps=1e-12, elementwise_affine=True)\n",
              "          (layernorm_after): LayerNorm((768,), eps=1e-12, elementwise_affine=True)\n",
              "        )\n",
              "      )\n",
              "    )\n",
              "    (layernorm): LayerNorm((768,), eps=1e-12, elementwise_affine=True)\n",
              "    (pooler): ViTPooler(\n",
              "      (dense): Linear(in_features=768, out_features=768, bias=True)\n",
              "      (activation): Tanh()\n",
              "    )\n",
              "  )\n",
              "  (classifier_jenis): Linear(in_features=768, out_features=1, bias=True)\n",
              "  (classifier_warna): Linear(in_features=768, out_features=5, bias=True)\n",
              ")"
            ]
          },
          "execution_count": 25,
          "metadata": {},
          "output_type": "execute_result"
        }
      ],
      "source": [
        "# # Load the model\n",
        "# model = MultiLabelViT()\n",
        "# model.load_state_dict(torch.load(\"hology/model/multilabel_vit-1.pth\", map_location=device))\n",
        "# model.to(device)"
      ]
    },
    {
      "cell_type": "markdown",
      "metadata": {},
      "source": [
        "We define function to predict data test by generates a CSV file for save result of prediction later. This function begins by listing all files within the img_dir directory and extracts the image IDs by removing the file extensions from each filename. It then creates a DataFrame."
      ]
    },
    {
      "cell_type": "code",
      "execution_count": 26,
      "metadata": {
        "id": "iF8353pz2nlM"
      },
      "outputs": [],
      "source": [
        "# create csv file for test data\n",
        "def create_test_csv(img_dir, output_csv):\n",
        "    # list all files in the test directory\n",
        "    img_files = os.listdir(img_dir)\n",
        "\n",
        "    # extract id from filename\n",
        "    img_ids = [os.path.splitext(f)[0] for f in img_files]\n",
        "\n",
        "    # create dataframe for test data with column jenis and warna is fill with null values\n",
        "    df = pd.DataFrame({\n",
        "        'id': img_ids,\n",
        "        'jenis': -1,\n",
        "        'warna': -1\n",
        "    })\n",
        "    df = df.sort_values(by='id', ascending=True)\n",
        "    # save dataframe to csv\n",
        "    df.to_csv(output_csv, index=False)\n",
        "\n",
        "# Create the CSV file for test data\n",
        "create_test_csv('hology/data/test/test', 'hology/data/test_predictions.csv')"
      ]
    },
    {
      "cell_type": "markdown",
      "metadata": {},
      "source": [
        "This function loads a trained model to predict labels for a test dataset. It reads images and their IDs from a specified directory and loads them using a custom ClothingDataset class. The function prepares batches of test data, runs them through the model in evaluation mode, and generates predictions for both jenis and warna attributes. For binary classification (jenis), it applies a threshold to sigmoid outputs, and for multi-class color classification (warna), it selects the class with the highest logit. The predictions are then stored and used to update the test CSV file, which is saved with sorted entries by ID."
      ]
    },
    {
      "cell_type": "code",
      "execution_count": 27,
      "metadata": {
        "colab": {
          "base_uri": "https://localhost:8080/"
        },
        "id": "yvE6qi7W4V1_",
        "outputId": "2c776d28-06cd-4f77-9799-881bb71a9492"
      },
      "outputs": [
        {
          "name": "stderr",
          "output_type": "stream",
          "text": [
            "C:\\Users\\User\\AppData\\Local\\Temp\\ipykernel_11040\\3280458754.py:25: DeprecationWarning: Conversion of an array with ndim > 0 to a scalar is deprecated, and will error in future. Ensure you extract a single element from your array before performing this operation. (Deprecated NumPy 1.25.)\n",
            "  predictions.append((int(jenis), int(warna)))\n"
          ]
        },
        {
          "name": "stdout",
          "output_type": "stream",
          "text": [
            "Predictions saved to test_predictions.csv\n"
          ]
        }
      ],
      "source": [
        "def predict_and_save(model, test_csv, img_dir, output_csv, transform, batch_size=16, threshold=0.5):\n",
        "    # Load test dataset and create dataloader\n",
        "    test_dataset = ClothingDataset(csv_file=test_csv, img_dir=img_dir, transform=transform)\n",
        "    test_loader = DataLoader(test_dataset, batch_size=batch_size, shuffle=False)\n",
        "\n",
        "    model.eval()\n",
        "    predictions = []\n",
        "\n",
        "    with torch.no_grad():\n",
        "        for images, _, _ in test_loader:\n",
        "            images = images.to(device)\n",
        "\n",
        "            # get predictions\n",
        "            jenis_logits, warna_logits = model(images)\n",
        "\n",
        "            # predict for jenis label\n",
        "            predicted_jenis = torch.sigmoid(jenis_logits)\n",
        "            predicted_jenis = (predicted_jenis > threshold).long()  # Apply optimal threshold values\n",
        "            \n",
        "            # predict for warna label\n",
        "            _, predicted_warna = torch.max(warna_logits, 1)\n",
        "\n",
        "            # store predictions\n",
        "            for jenis, warna in zip(predicted_jenis.cpu().numpy(), predicted_warna.cpu().numpy()):\n",
        "                predictions.append((int(jenis), int(warna)))\n",
        "\n",
        "    # load test CSV and update jenis and warna column with predictions\n",
        "    df = pd.read_csv(test_csv)\n",
        "    df['jenis'] = [p[0] for p in predictions]\n",
        "    df['warna'] = [p[1] for p in predictions]\n",
        "\n",
        "    # save csv\n",
        "    df = df.sort_values(by='id', ascending=True)\n",
        "    df.to_csv(output_csv, index=False)\n",
        "    print(f\"Predictions saved to {output_csv}\")\n",
        "\n",
        "\n",
        "# Run prediction and save the results\n",
        "opt_threshold = 0.7\n",
        "predict_and_save(model,\n",
        "                 test_csv='hology/data/test_predictions.csv',\n",
        "                 img_dir='hology/data/test/test',\n",
        "                 output_csv='hology/data/test_predictions.csv',\n",
        "                 transform=transform, threshold=opt_threshold)\n"
      ]
    },
    {
      "cell_type": "code",
      "execution_count": null,
      "metadata": {},
      "outputs": [],
      "source": []
    }
  ],
  "metadata": {
    "accelerator": "GPU",
    "colab": {
      "gpuType": "T4",
      "provenance": []
    },
    "kernelspec": {
      "display_name": "env",
      "language": "python",
      "name": "python3"
    },
    "language_info": {
      "codemirror_mode": {
        "name": "ipython",
        "version": 3
      },
      "file_extension": ".py",
      "mimetype": "text/x-python",
      "name": "python",
      "nbconvert_exporter": "python",
      "pygments_lexer": "ipython3",
      "version": "3.10.5"
    },
    "widgets": {
      "application/vnd.jupyter.widget-state+json": {
        "18db0e22f4294266971c579cbe2e023f": {
          "model_module": "@jupyter-widgets/controls",
          "model_module_version": "1.5.0",
          "model_name": "DescriptionStyleModel",
          "state": {
            "_model_module": "@jupyter-widgets/controls",
            "_model_module_version": "1.5.0",
            "_model_name": "DescriptionStyleModel",
            "_view_count": null,
            "_view_module": "@jupyter-widgets/base",
            "_view_module_version": "1.2.0",
            "_view_name": "StyleView",
            "description_width": ""
          }
        },
        "28a9df83393a4c3c81093b18ca128579": {
          "model_module": "@jupyter-widgets/base",
          "model_module_version": "1.2.0",
          "model_name": "LayoutModel",
          "state": {
            "_model_module": "@jupyter-widgets/base",
            "_model_module_version": "1.2.0",
            "_model_name": "LayoutModel",
            "_view_count": null,
            "_view_module": "@jupyter-widgets/base",
            "_view_module_version": "1.2.0",
            "_view_name": "LayoutView",
            "align_content": null,
            "align_items": null,
            "align_self": null,
            "border": null,
            "bottom": null,
            "display": null,
            "flex": null,
            "flex_flow": null,
            "grid_area": null,
            "grid_auto_columns": null,
            "grid_auto_flow": null,
            "grid_auto_rows": null,
            "grid_column": null,
            "grid_gap": null,
            "grid_row": null,
            "grid_template_areas": null,
            "grid_template_columns": null,
            "grid_template_rows": null,
            "height": null,
            "justify_content": null,
            "justify_items": null,
            "left": null,
            "margin": null,
            "max_height": null,
            "max_width": null,
            "min_height": null,
            "min_width": null,
            "object_fit": null,
            "object_position": null,
            "order": null,
            "overflow": null,
            "overflow_x": null,
            "overflow_y": null,
            "padding": null,
            "right": null,
            "top": null,
            "visibility": null,
            "width": null
          }
        },
        "35d8f35e76c040468b45fee1592fd28f": {
          "model_module": "@jupyter-widgets/controls",
          "model_module_version": "1.5.0",
          "model_name": "FloatProgressModel",
          "state": {
            "_dom_classes": [],
            "_model_module": "@jupyter-widgets/controls",
            "_model_module_version": "1.5.0",
            "_model_name": "FloatProgressModel",
            "_view_count": null,
            "_view_module": "@jupyter-widgets/controls",
            "_view_module_version": "1.5.0",
            "_view_name": "ProgressView",
            "bar_style": "success",
            "description": "",
            "description_tooltip": null,
            "layout": "IPY_MODEL_28a9df83393a4c3c81093b18ca128579",
            "max": 69665,
            "min": 0,
            "orientation": "horizontal",
            "style": "IPY_MODEL_812f724a457d420b9802226582f73d49",
            "value": 69665
          }
        },
        "3b59d7c40db14f7cac416f4e4ca78ad7": {
          "model_module": "@jupyter-widgets/base",
          "model_module_version": "1.2.0",
          "model_name": "LayoutModel",
          "state": {
            "_model_module": "@jupyter-widgets/base",
            "_model_module_version": "1.2.0",
            "_model_name": "LayoutModel",
            "_view_count": null,
            "_view_module": "@jupyter-widgets/base",
            "_view_module_version": "1.2.0",
            "_view_name": "LayoutView",
            "align_content": null,
            "align_items": null,
            "align_self": null,
            "border": null,
            "bottom": null,
            "display": null,
            "flex": null,
            "flex_flow": null,
            "grid_area": null,
            "grid_auto_columns": null,
            "grid_auto_flow": null,
            "grid_auto_rows": null,
            "grid_column": null,
            "grid_gap": null,
            "grid_row": null,
            "grid_template_areas": null,
            "grid_template_columns": null,
            "grid_template_rows": null,
            "height": null,
            "justify_content": null,
            "justify_items": null,
            "left": null,
            "margin": null,
            "max_height": null,
            "max_width": null,
            "min_height": null,
            "min_width": null,
            "object_fit": null,
            "object_position": null,
            "order": null,
            "overflow": null,
            "overflow_x": null,
            "overflow_y": null,
            "padding": null,
            "right": null,
            "top": null,
            "visibility": null,
            "width": null
          }
        },
        "4b90936a3a2546acae25afc2b228e7e0": {
          "model_module": "@jupyter-widgets/controls",
          "model_module_version": "1.5.0",
          "model_name": "HBoxModel",
          "state": {
            "_dom_classes": [],
            "_model_module": "@jupyter-widgets/controls",
            "_model_module_version": "1.5.0",
            "_model_name": "HBoxModel",
            "_view_count": null,
            "_view_module": "@jupyter-widgets/controls",
            "_view_module_version": "1.5.0",
            "_view_name": "HBoxView",
            "box_style": "",
            "children": [
              "IPY_MODEL_f0dc778235fe43d0a1391fb1206690ea",
              "IPY_MODEL_698887ae0f3540cfaacc69819144c967",
              "IPY_MODEL_f394db09e39043209b39590f9be4d55f"
            ],
            "layout": "IPY_MODEL_aaa8914978f945c9bdadb0da711609a0"
          }
        },
        "598893d59bc344aaabfbf64cdbac3f87": {
          "model_module": "@jupyter-widgets/base",
          "model_module_version": "1.2.0",
          "model_name": "LayoutModel",
          "state": {
            "_model_module": "@jupyter-widgets/base",
            "_model_module_version": "1.2.0",
            "_model_name": "LayoutModel",
            "_view_count": null,
            "_view_module": "@jupyter-widgets/base",
            "_view_module_version": "1.2.0",
            "_view_name": "LayoutView",
            "align_content": null,
            "align_items": null,
            "align_self": null,
            "border": null,
            "bottom": null,
            "display": null,
            "flex": null,
            "flex_flow": null,
            "grid_area": null,
            "grid_auto_columns": null,
            "grid_auto_flow": null,
            "grid_auto_rows": null,
            "grid_column": null,
            "grid_gap": null,
            "grid_row": null,
            "grid_template_areas": null,
            "grid_template_columns": null,
            "grid_template_rows": null,
            "height": null,
            "justify_content": null,
            "justify_items": null,
            "left": null,
            "margin": null,
            "max_height": null,
            "max_width": null,
            "min_height": null,
            "min_width": null,
            "object_fit": null,
            "object_position": null,
            "order": null,
            "overflow": null,
            "overflow_x": null,
            "overflow_y": null,
            "padding": null,
            "right": null,
            "top": null,
            "visibility": null,
            "width": null
          }
        },
        "611fd30bf3d94d818489b6e7f7bd12c9": {
          "model_module": "@jupyter-widgets/controls",
          "model_module_version": "1.5.0",
          "model_name": "HBoxModel",
          "state": {
            "_dom_classes": [],
            "_model_module": "@jupyter-widgets/controls",
            "_model_module_version": "1.5.0",
            "_model_name": "HBoxModel",
            "_view_count": null,
            "_view_module": "@jupyter-widgets/controls",
            "_view_module_version": "1.5.0",
            "_view_name": "HBoxView",
            "box_style": "",
            "children": [
              "IPY_MODEL_fe767983311349a99a065cb860e875d6",
              "IPY_MODEL_35d8f35e76c040468b45fee1592fd28f",
              "IPY_MODEL_db3464bc619d4975a614bacb4c65881d"
            ],
            "layout": "IPY_MODEL_598893d59bc344aaabfbf64cdbac3f87"
          }
        },
        "61adb54bd5d04d34b013a7c36db323e9": {
          "model_module": "@jupyter-widgets/controls",
          "model_module_version": "1.5.0",
          "model_name": "DescriptionStyleModel",
          "state": {
            "_model_module": "@jupyter-widgets/controls",
            "_model_module_version": "1.5.0",
            "_model_name": "DescriptionStyleModel",
            "_view_count": null,
            "_view_module": "@jupyter-widgets/base",
            "_view_module_version": "1.2.0",
            "_view_name": "StyleView",
            "description_width": ""
          }
        },
        "6485153a12144beb91352ca0bcad2e5b": {
          "model_module": "@jupyter-widgets/controls",
          "model_module_version": "1.5.0",
          "model_name": "DescriptionStyleModel",
          "state": {
            "_model_module": "@jupyter-widgets/controls",
            "_model_module_version": "1.5.0",
            "_model_name": "DescriptionStyleModel",
            "_view_count": null,
            "_view_module": "@jupyter-widgets/base",
            "_view_module_version": "1.2.0",
            "_view_name": "StyleView",
            "description_width": ""
          }
        },
        "698887ae0f3540cfaacc69819144c967": {
          "model_module": "@jupyter-widgets/controls",
          "model_module_version": "1.5.0",
          "model_name": "FloatProgressModel",
          "state": {
            "_dom_classes": [],
            "_model_module": "@jupyter-widgets/controls",
            "_model_module_version": "1.5.0",
            "_model_name": "FloatProgressModel",
            "_view_count": null,
            "_view_module": "@jupyter-widgets/controls",
            "_view_module_version": "1.5.0",
            "_view_name": "ProgressView",
            "bar_style": "success",
            "description": "",
            "description_tooltip": null,
            "layout": "IPY_MODEL_3b59d7c40db14f7cac416f4e4ca78ad7",
            "max": 346293852,
            "min": 0,
            "orientation": "horizontal",
            "style": "IPY_MODEL_b805c212b79247aebd62e594bb4ba4b1",
            "value": 346293852
          }
        },
        "779c90e6f0f2410d9af4b35eaee93a57": {
          "model_module": "@jupyter-widgets/base",
          "model_module_version": "1.2.0",
          "model_name": "LayoutModel",
          "state": {
            "_model_module": "@jupyter-widgets/base",
            "_model_module_version": "1.2.0",
            "_model_name": "LayoutModel",
            "_view_count": null,
            "_view_module": "@jupyter-widgets/base",
            "_view_module_version": "1.2.0",
            "_view_name": "LayoutView",
            "align_content": null,
            "align_items": null,
            "align_self": null,
            "border": null,
            "bottom": null,
            "display": null,
            "flex": null,
            "flex_flow": null,
            "grid_area": null,
            "grid_auto_columns": null,
            "grid_auto_flow": null,
            "grid_auto_rows": null,
            "grid_column": null,
            "grid_gap": null,
            "grid_row": null,
            "grid_template_areas": null,
            "grid_template_columns": null,
            "grid_template_rows": null,
            "height": null,
            "justify_content": null,
            "justify_items": null,
            "left": null,
            "margin": null,
            "max_height": null,
            "max_width": null,
            "min_height": null,
            "min_width": null,
            "object_fit": null,
            "object_position": null,
            "order": null,
            "overflow": null,
            "overflow_x": null,
            "overflow_y": null,
            "padding": null,
            "right": null,
            "top": null,
            "visibility": null,
            "width": null
          }
        },
        "812f724a457d420b9802226582f73d49": {
          "model_module": "@jupyter-widgets/controls",
          "model_module_version": "1.5.0",
          "model_name": "ProgressStyleModel",
          "state": {
            "_model_module": "@jupyter-widgets/controls",
            "_model_module_version": "1.5.0",
            "_model_name": "ProgressStyleModel",
            "_view_count": null,
            "_view_module": "@jupyter-widgets/base",
            "_view_module_version": "1.2.0",
            "_view_name": "StyleView",
            "bar_color": null,
            "description_width": ""
          }
        },
        "aaa8914978f945c9bdadb0da711609a0": {
          "model_module": "@jupyter-widgets/base",
          "model_module_version": "1.2.0",
          "model_name": "LayoutModel",
          "state": {
            "_model_module": "@jupyter-widgets/base",
            "_model_module_version": "1.2.0",
            "_model_name": "LayoutModel",
            "_view_count": null,
            "_view_module": "@jupyter-widgets/base",
            "_view_module_version": "1.2.0",
            "_view_name": "LayoutView",
            "align_content": null,
            "align_items": null,
            "align_self": null,
            "border": null,
            "bottom": null,
            "display": null,
            "flex": null,
            "flex_flow": null,
            "grid_area": null,
            "grid_auto_columns": null,
            "grid_auto_flow": null,
            "grid_auto_rows": null,
            "grid_column": null,
            "grid_gap": null,
            "grid_row": null,
            "grid_template_areas": null,
            "grid_template_columns": null,
            "grid_template_rows": null,
            "height": null,
            "justify_content": null,
            "justify_items": null,
            "left": null,
            "margin": null,
            "max_height": null,
            "max_width": null,
            "min_height": null,
            "min_width": null,
            "object_fit": null,
            "object_position": null,
            "order": null,
            "overflow": null,
            "overflow_x": null,
            "overflow_y": null,
            "padding": null,
            "right": null,
            "top": null,
            "visibility": null,
            "width": null
          }
        },
        "b805c212b79247aebd62e594bb4ba4b1": {
          "model_module": "@jupyter-widgets/controls",
          "model_module_version": "1.5.0",
          "model_name": "ProgressStyleModel",
          "state": {
            "_model_module": "@jupyter-widgets/controls",
            "_model_module_version": "1.5.0",
            "_model_name": "ProgressStyleModel",
            "_view_count": null,
            "_view_module": "@jupyter-widgets/base",
            "_view_module_version": "1.2.0",
            "_view_name": "StyleView",
            "bar_color": null,
            "description_width": ""
          }
        },
        "d6953d5c047343bb979fdeb19462ce50": {
          "model_module": "@jupyter-widgets/base",
          "model_module_version": "1.2.0",
          "model_name": "LayoutModel",
          "state": {
            "_model_module": "@jupyter-widgets/base",
            "_model_module_version": "1.2.0",
            "_model_name": "LayoutModel",
            "_view_count": null,
            "_view_module": "@jupyter-widgets/base",
            "_view_module_version": "1.2.0",
            "_view_name": "LayoutView",
            "align_content": null,
            "align_items": null,
            "align_self": null,
            "border": null,
            "bottom": null,
            "display": null,
            "flex": null,
            "flex_flow": null,
            "grid_area": null,
            "grid_auto_columns": null,
            "grid_auto_flow": null,
            "grid_auto_rows": null,
            "grid_column": null,
            "grid_gap": null,
            "grid_row": null,
            "grid_template_areas": null,
            "grid_template_columns": null,
            "grid_template_rows": null,
            "height": null,
            "justify_content": null,
            "justify_items": null,
            "left": null,
            "margin": null,
            "max_height": null,
            "max_width": null,
            "min_height": null,
            "min_width": null,
            "object_fit": null,
            "object_position": null,
            "order": null,
            "overflow": null,
            "overflow_x": null,
            "overflow_y": null,
            "padding": null,
            "right": null,
            "top": null,
            "visibility": null,
            "width": null
          }
        },
        "db3464bc619d4975a614bacb4c65881d": {
          "model_module": "@jupyter-widgets/controls",
          "model_module_version": "1.5.0",
          "model_name": "HTMLModel",
          "state": {
            "_dom_classes": [],
            "_model_module": "@jupyter-widgets/controls",
            "_model_module_version": "1.5.0",
            "_model_name": "HTMLModel",
            "_view_count": null,
            "_view_module": "@jupyter-widgets/controls",
            "_view_module_version": "1.5.0",
            "_view_name": "HTMLView",
            "description": "",
            "description_tooltip": null,
            "layout": "IPY_MODEL_d6953d5c047343bb979fdeb19462ce50",
            "placeholder": "​",
            "style": "IPY_MODEL_6485153a12144beb91352ca0bcad2e5b",
            "value": " 69.7k/69.7k [00:00&lt;00:00, 3.61MB/s]"
          }
        },
        "e1367c7b28ab4801ac331065aff0436e": {
          "model_module": "@jupyter-widgets/controls",
          "model_module_version": "1.5.0",
          "model_name": "DescriptionStyleModel",
          "state": {
            "_model_module": "@jupyter-widgets/controls",
            "_model_module_version": "1.5.0",
            "_model_name": "DescriptionStyleModel",
            "_view_count": null,
            "_view_module": "@jupyter-widgets/base",
            "_view_module_version": "1.2.0",
            "_view_name": "StyleView",
            "description_width": ""
          }
        },
        "e7ef50bdfd0740078530eaaabe6bdd9a": {
          "model_module": "@jupyter-widgets/base",
          "model_module_version": "1.2.0",
          "model_name": "LayoutModel",
          "state": {
            "_model_module": "@jupyter-widgets/base",
            "_model_module_version": "1.2.0",
            "_model_name": "LayoutModel",
            "_view_count": null,
            "_view_module": "@jupyter-widgets/base",
            "_view_module_version": "1.2.0",
            "_view_name": "LayoutView",
            "align_content": null,
            "align_items": null,
            "align_self": null,
            "border": null,
            "bottom": null,
            "display": null,
            "flex": null,
            "flex_flow": null,
            "grid_area": null,
            "grid_auto_columns": null,
            "grid_auto_flow": null,
            "grid_auto_rows": null,
            "grid_column": null,
            "grid_gap": null,
            "grid_row": null,
            "grid_template_areas": null,
            "grid_template_columns": null,
            "grid_template_rows": null,
            "height": null,
            "justify_content": null,
            "justify_items": null,
            "left": null,
            "margin": null,
            "max_height": null,
            "max_width": null,
            "min_height": null,
            "min_width": null,
            "object_fit": null,
            "object_position": null,
            "order": null,
            "overflow": null,
            "overflow_x": null,
            "overflow_y": null,
            "padding": null,
            "right": null,
            "top": null,
            "visibility": null,
            "width": null
          }
        },
        "f0dc778235fe43d0a1391fb1206690ea": {
          "model_module": "@jupyter-widgets/controls",
          "model_module_version": "1.5.0",
          "model_name": "HTMLModel",
          "state": {
            "_dom_classes": [],
            "_model_module": "@jupyter-widgets/controls",
            "_model_module_version": "1.5.0",
            "_model_name": "HTMLModel",
            "_view_count": null,
            "_view_module": "@jupyter-widgets/controls",
            "_view_module_version": "1.5.0",
            "_view_name": "HTMLView",
            "description": "",
            "description_tooltip": null,
            "layout": "IPY_MODEL_e7ef50bdfd0740078530eaaabe6bdd9a",
            "placeholder": "​",
            "style": "IPY_MODEL_e1367c7b28ab4801ac331065aff0436e",
            "value": "model.safetensors: 100%"
          }
        },
        "f394db09e39043209b39590f9be4d55f": {
          "model_module": "@jupyter-widgets/controls",
          "model_module_version": "1.5.0",
          "model_name": "HTMLModel",
          "state": {
            "_dom_classes": [],
            "_model_module": "@jupyter-widgets/controls",
            "_model_module_version": "1.5.0",
            "_model_name": "HTMLModel",
            "_view_count": null,
            "_view_module": "@jupyter-widgets/controls",
            "_view_module_version": "1.5.0",
            "_view_name": "HTMLView",
            "description": "",
            "description_tooltip": null,
            "layout": "IPY_MODEL_779c90e6f0f2410d9af4b35eaee93a57",
            "placeholder": "​",
            "style": "IPY_MODEL_18db0e22f4294266971c579cbe2e023f",
            "value": " 346M/346M [00:01&lt;00:00, 224MB/s]"
          }
        },
        "fc370bbbfa224832b4aca4b42e56949b": {
          "model_module": "@jupyter-widgets/base",
          "model_module_version": "1.2.0",
          "model_name": "LayoutModel",
          "state": {
            "_model_module": "@jupyter-widgets/base",
            "_model_module_version": "1.2.0",
            "_model_name": "LayoutModel",
            "_view_count": null,
            "_view_module": "@jupyter-widgets/base",
            "_view_module_version": "1.2.0",
            "_view_name": "LayoutView",
            "align_content": null,
            "align_items": null,
            "align_self": null,
            "border": null,
            "bottom": null,
            "display": null,
            "flex": null,
            "flex_flow": null,
            "grid_area": null,
            "grid_auto_columns": null,
            "grid_auto_flow": null,
            "grid_auto_rows": null,
            "grid_column": null,
            "grid_gap": null,
            "grid_row": null,
            "grid_template_areas": null,
            "grid_template_columns": null,
            "grid_template_rows": null,
            "height": null,
            "justify_content": null,
            "justify_items": null,
            "left": null,
            "margin": null,
            "max_height": null,
            "max_width": null,
            "min_height": null,
            "min_width": null,
            "object_fit": null,
            "object_position": null,
            "order": null,
            "overflow": null,
            "overflow_x": null,
            "overflow_y": null,
            "padding": null,
            "right": null,
            "top": null,
            "visibility": null,
            "width": null
          }
        },
        "fe767983311349a99a065cb860e875d6": {
          "model_module": "@jupyter-widgets/controls",
          "model_module_version": "1.5.0",
          "model_name": "HTMLModel",
          "state": {
            "_dom_classes": [],
            "_model_module": "@jupyter-widgets/controls",
            "_model_module_version": "1.5.0",
            "_model_name": "HTMLModel",
            "_view_count": null,
            "_view_module": "@jupyter-widgets/controls",
            "_view_module_version": "1.5.0",
            "_view_name": "HTMLView",
            "description": "",
            "description_tooltip": null,
            "layout": "IPY_MODEL_fc370bbbfa224832b4aca4b42e56949b",
            "placeholder": "​",
            "style": "IPY_MODEL_61adb54bd5d04d34b013a7c36db323e9",
            "value": "config.json: 100%"
          }
        }
      }
    }
  },
  "nbformat": 4,
  "nbformat_minor": 0
}
